{
 "cells": [
  {
   "cell_type": "code",
   "execution_count": 4,
   "metadata": {},
   "outputs": [],
   "source": [
    "import os\n",
    "import sys\n",
    "sys.path.append(r\"../\")\n",
    "import numpy as np\n",
    "import matplotlib.pyplot as plt\n",
    "from nodes.HR import HR\n",
    "from nodes.HH import HH\n",
    "from utils.statis import ISIer\n",
    "from utils.utils_f import spikevent"
   ]
  },
  {
   "cell_type": "code",
   "execution_count": 5,
   "metadata": {},
   "outputs": [],
   "source": [
    "N = 1\n",
    "method = \"euler\"  # \"rk4\", \"euler\"\n",
    "models = HH(N=N, method=method, dt=0.01)\n",
    "models.Iex = 10.\n",
    "# models = HR(N=N, method=method, dt=0.01)\n",
    "# models.Iex = 3.   # 混沌态\n",
    "time = []\n",
    "mem = []\n",
    "se = spikevent(N)\n",
    "ISI = ISIer()\n",
    "\n",
    "for i in range(10000):\n",
    "    models()\n",
    "\n",
    "for i in range(100000):\n",
    "    models()\n",
    "    ISI(models.mem[0], models.t, models.Iex)\n",
    "    time.append(models.t)\n",
    "    mem.append(models.mem.copy())\n",
    "    se(models.t, models.flaglaunch)"
   ]
  },
  {
   "cell_type": "code",
   "execution_count": 8,
   "metadata": {},
   "outputs": [
    {
     "data": {
      "text/plain": [
       "[14.64000000000081,\n",
       " 14.629999999986694,\n",
       " 14.639999999986685,\n",
       " 14.629999999986694,\n",
       " 14.629999999986694,\n",
       " 14.639999999986685,\n",
       " 14.629999999986694,\n",
       " 14.639999999986685,\n",
       " 14.629999999986694,\n",
       " 14.639999999986713,\n",
       " 14.629999999986694,\n",
       " 14.629999999986694,\n",
       " 14.639999999986685,\n",
       " 14.629999999986694,\n",
       " 14.639999999986685,\n",
       " 14.629999999986694,\n",
       " 14.639999999986685,\n",
       " 14.629999999986694,\n",
       " 14.629999999986694,\n",
       " 14.639999999986685,\n",
       " 14.629999999986694,\n",
       " 14.639999999986685,\n",
       " 14.629999999986694,\n",
       " 14.639999999986685,\n",
       " 14.629999999986694,\n",
       " 14.629999999986694,\n",
       " 14.639999999986742,\n",
       " 14.629999999986694,\n",
       " 14.639999999986685,\n",
       " 14.629999999986694,\n",
       " 14.639999999986685,\n",
       " 14.629999999986694,\n",
       " 14.629999999986694,\n",
       " 14.639999999986685,\n",
       " 14.629999999986694,\n",
       " 14.639999999986685,\n",
       " 14.629999999986694,\n",
       " 14.639999999986685,\n",
       " 14.629999999986694,\n",
       " 14.629999999986694,\n",
       " 14.639999999986685,\n",
       " 14.629999999986694,\n",
       " 14.639999999986685,\n",
       " 14.629999999986694,\n",
       " 14.639999999986685,\n",
       " 14.629999999986694,\n",
       " 14.629999999986694,\n",
       " 14.639999999986685,\n",
       " 14.629999999986694,\n",
       " 14.639999999986685,\n",
       " 14.629999999986694,\n",
       " 14.639999999986685,\n",
       " 14.629999999986694,\n",
       " 14.629999999986694,\n",
       " 14.639999999986685,\n",
       " 14.629999999986694,\n",
       " 14.639999999986685,\n",
       " 14.629999999986694,\n",
       " 14.639999999986685,\n",
       " 14.629999999986694,\n",
       " 14.629999999986694,\n",
       " 14.639999999986685,\n",
       " 14.629999999986694,\n",
       " 14.639999999986685,\n",
       " 14.629999999986694,\n",
       " 14.639999999986685,\n",
       " 14.629999999986694]"
      ]
     },
     "execution_count": 8,
     "metadata": {},
     "output_type": "execute_result"
    }
   ],
   "source": []
  },
  {
   "cell_type": "code",
   "execution_count": null,
   "metadata": {},
   "outputs": [],
   "source": []
  }
 ],
 "metadata": {
  "kernelspec": {
   "display_name": "Python 3",
   "language": "python",
   "name": "python3"
  },
  "language_info": {
   "codemirror_mode": {
    "name": "ipython",
    "version": 3
   },
   "file_extension": ".py",
   "mimetype": "text/x-python",
   "name": "python",
   "nbconvert_exporter": "python",
   "pygments_lexer": "ipython3",
   "version": "3.11.3"
  }
 },
 "nbformat": 4,
 "nbformat_minor": 2
}
